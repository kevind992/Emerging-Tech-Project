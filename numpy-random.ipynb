{
 "cells": [
  {
   "cell_type": "markdown",
   "metadata": {},
   "source": [
    "![image](https://upload.wikimedia.org/wikipedia/commons/thumb/1/1a/NumPy_logo.svg/1200px-NumPy_logo.svg.png)"
   ]
  },
  {
   "cell_type": "markdown",
   "metadata": {},
   "source": [
    "# NumPy Random Notebook"
   ]
  },
  {
   "cell_type": "markdown",
   "metadata": {},
   "source": [
    "Author: Kevin Delassus - G00270791"
   ]
  },
  {
   "cell_type": "markdown",
   "metadata": {},
   "source": [
    "### Notebook Purpose\n",
    "The purpose of this notebook is to explain the Numpy.Random Package.\n",
    "\n",
    "### NumPy\n",
    "NumPy is a fundamental package for scientific computing in Python. It provides a multidimensional array object, various derived objects, and an assortment of routines for fast operations on arrays, including mathematical, logical, shape manipulation, sorting, selecting, I/O, discrete Fourier transforms, basic linear algebra, basic statistical operations, random simulation and much more. "
   ]
  },
  {
   "cell_type": "markdown",
   "metadata": {},
   "source": [
    "## NumPy.Random"
   ]
  },
  {
   "cell_type": "markdown",
   "metadata": {},
   "source": [
    "(explain the NumPy.Random package)"
   ]
  },
  {
   "cell_type": "markdown",
   "metadata": {},
   "source": [
    "### NumPy.random.rand"
   ]
  },
  {
   "cell_type": "markdown",
   "metadata": {},
   "source": [
    "numpy.random.rand creates random numbers in a given shape and stores them in an array. If another parameter is added then another array of random numbers is created. In the example below an array of 10 random numbers is created and displayed in a histogram."
   ]
  },
  {
   "cell_type": "code",
   "execution_count": 1,
   "metadata": {},
   "outputs": [],
   "source": [
    "import numpy as np"
   ]
  },
  {
   "cell_type": "code",
   "execution_count": 2,
   "metadata": {},
   "outputs": [
    {
     "data": {
      "text/plain": [
       "array([0.56512699, 0.52058384, 0.51355699, 0.80719288, 0.17555491,\n",
       "       0.95303092, 0.03011228, 0.85413148, 0.62590079, 0.30950105])"
      ]
     },
     "execution_count": 2,
     "metadata": {},
     "output_type": "execute_result"
    }
   ],
   "source": [
    "x = np.random.rand(10)\n",
    "x"
   ]
  },
  {
   "cell_type": "code",
   "execution_count": 3,
   "metadata": {},
   "outputs": [
    {
     "data": {
      "image/png": "[encoded data removed]",
      "text/plain": [
       "<Figure size 432x288 with 1 Axes>"
      ]
     },
     "metadata": {
      "needs_background": "light"
     },
     "output_type": "display_data"
    }
   ],
   "source": [
    "%matplotlib inline\n",
    "\n",
    "import matplotlib.pyplot as plt\n",
    "\n",
    "plt.hist(x)\n",
    "plt.show()"
   ]
  },
  {
   "cell_type": "markdown",
   "metadata": {},
   "source": [
    "### Random.uniform"
   ]
  },
  {
   "cell_type": "markdown",
   "metadata": {},
   "source": [
    "numpy.random.uniform takes 3 parameters, a lower boundard of the output interval, a upper boundary of the output interval and a output shape or size. Both the lower and size are optional parameters.Any value within the given interval is equally likely to be drawn by uniform. In the example below"
   ]
  },
  {
   "cell_type": "code",
   "execution_count": 4,
   "metadata": {},
   "outputs": [],
   "source": [
    "x = np.random.uniform(-1,2,1000)"
   ]
  },
  {
   "cell_type": "code",
   "execution_count": 5,
   "metadata": {},
   "outputs": [
    {
     "data": {
      "text/plain": [
       "(array([105., 106.,  89., 109., 107., 107.,  96.,  95.,  97.,  89.]),\n",
       " array([-0.99960083, -0.69967188, -0.39974293, -0.09981398,  0.20011497,\n",
       "         0.50004392,  0.79997288,  1.09990183,  1.39983078,  1.69975973,\n",
       "         1.99968868]),\n",
       " <a list of 10 Patch objects>)"
      ]
     },
     "execution_count": 5,
     "metadata": {},
     "output_type": "execute_result"
    },
    {
     "data": {
      "image/png": "[encoded data removed]",
      "text/plain": [
       "<Figure size 432x288 with 1 Axes>"
      ]
     },
     "metadata": {
      "needs_background": "light"
     },
     "output_type": "display_data"
    }
   ],
   "source": [
    "plt.hist(x)"
   ]
  },
  {
   "cell_type": "markdown",
   "metadata": {},
   "source": [
    "### Random.normal"
   ]
  },
  {
   "cell_type": "markdown",
   "metadata": {},
   "source": [
    "numpy.random.normal takes three parameters. The first is the centre of the distribution, the second is the width of the distibution and the third is the output shape or size of the distribution. The size is the only parameter that is optional. In the example below 0 is the centre , 0.1 is the width and 10000 is the size. As you can see in the histogram, most of the random samples are distributed around the centre (0). "
   ]
  },
  {
   "cell_type": "code",
   "execution_count": 6,
   "metadata": {},
   "outputs": [
    {
     "data": {
      "text/plain": [
       "(array([   7.,   21.,  276., 1135., 2680., 3253., 1938.,  577.,  107.,\n",
       "           6.]),\n",
       " array([-4.40250038, -3.56752737, -2.73255437, -1.89758137, -1.06260836,\n",
       "        -0.22763536,  0.60733764,  1.44231065,  2.27728365,  3.11225665,\n",
       "         3.94722965]),\n",
       " <a list of 10 Patch objects>)"
      ]
     },
     "execution_count": 6,
     "metadata": {},
     "output_type": "execute_result"
    },
    {
     "data": {
      "image/png": "[encoded data removed]",
      "text/plain": [
       "<Figure size 432x288 with 1 Axes>"
      ]
     },
     "metadata": {
      "needs_background": "light"
     },
     "output_type": "display_data"
    }
   ],
   "source": [
    "x = np.random.normal(0,1,10000)\n",
    "\n",
    "plt.hist(x)"
   ]
  },
  {
   "cell_type": "markdown",
   "metadata": {},
   "source": [
    "### Random.gumbel"
   ]
  },
  {
   "cell_type": "markdown",
   "metadata": {},
   "source": [
    "The Gumbel distribution is used to model the distiution of the maximum of a number of samples of various distibutions. The Gumbel distribution might be used to represent the distribution of the max rainfall in a particular area during a particular time of the year.\n",
    "numpy.random.gumbel draw samples from a Gumbel distribution. It takes three parameters. A location, which is option but the default will be set to 0. A scale which is also option but again the default will then be set to 1. The third parameter is the size or output shape. If no value is entered into the size then only a single value is returned."
   ]
  },
  {
   "cell_type": "code",
   "execution_count": 7,
   "metadata": {},
   "outputs": [
    {
     "data": {
      "text/plain": [
       "(array([ 34., 187., 274., 223., 137.,  74.,  38.,  20.,   5.,   8.]),\n",
       " array([-1.9396956 , -1.19577444, -0.45185327,  0.29206789,  1.03598905,\n",
       "         1.77991022,  2.52383138,  3.26775255,  4.01167371,  4.75559488,\n",
       "         5.49951604]),\n",
       " <a list of 10 Patch objects>)"
      ]
     },
     "execution_count": 7,
     "metadata": {},
     "output_type": "execute_result"
    },
    {
     "data": {
      "image/png": "[encoded data removed]",
      "text/plain": [
       "<Figure size 432x288 with 1 Axes>"
      ]
     },
     "metadata": {
      "needs_background": "light"
     },
     "output_type": "display_data"
    }
   ],
   "source": [
    "x = np.random.gumbel(0,1,1000)\n",
    "plt.hist(x)"
   ]
  },
  {
   "cell_type": "markdown",
   "metadata": {},
   "source": [
    "In the example above the values start to increase quite dramatically around the centre point 0 and after 0 the figues start to decrease alot less dramatic."
   ]
  },
  {
   "cell_type": "markdown",
   "metadata": {},
   "source": [
    "### Random.sample"
   ]
  },
  {
   "cell_type": "markdown",
   "metadata": {},
   "source": [
    "numpy.random.sample returns random floats in a half open interval. It takes one parameter which is the size or output shape. It returns an array of random numbers. In the example below, 5 is given as a size or output shape and the result is an array of 5 float numbers. The float numbers are from a continuous unifrom distribution over the stated interval."
   ]
  },
  {
   "cell_type": "code",
   "execution_count": 8,
   "metadata": {},
   "outputs": [
    {
     "data": {
      "text/plain": [
       "array([0.60854731, 0.43767809, 0.05127784, 0.92073698, 0.49533474])"
      ]
     },
     "execution_count": 8,
     "metadata": {},
     "output_type": "execute_result"
    }
   ],
   "source": [
    "x = np.random.sample(5)\n",
    "x"
   ]
  },
  {
   "cell_type": "markdown",
   "metadata": {},
   "source": [
    "### Random.seed"
   ]
  },
  {
   "cell_type": "markdown",
   "metadata": {},
   "source": [
    "A seed is a number used to initialize a pseudorandom number generator. A seed does not need to be random so long as the orginal seed is ignored, the rest of the values that the algorithm generates will follow probability distribution in a pseudorandom manner. If the seed is know then the random number algorithm can be figured out.\n",
    "numpy.random.seed is used to seed the generator. It is called when RandomState is initialized. It can be recalled to re-seed the generator. It takes one parameter which is the seed."
   ]
  },
  {
   "cell_type": "markdown",
   "metadata": {},
   "source": [
    "## References"
   ]
  },
  {
   "cell_type": "markdown",
   "metadata": {},
   "source": [
    "numpy - http://www.numpy.org/\n",
    "numpy.random.rand - https://docs.scipy.org/doc/numpy-1.15.1/reference/generated/numpy.random.rand.html#numpy.random.rand\n",
    "numpy.random.uniform - https://docs.scipy.org/doc/numpy-1.15.1/reference/generated/numpy.random.uniform.html#numpy.random.uniform\n",
    "numpy.random.normal - https://docs.scipy.org/doc/numpy-1.15.1/reference/generated/numpy.random.normal.html#numpy.random.normal\n",
    "numpy.random.gumbel - https://docs.scipy.org/doc/numpy-1.15.1/reference/generated/numpy.random.gumbel.html#numpy.random.gumbel\n",
    "Gumbel distribution - https://en.wikipedia.org/wiki/Gumbel_distribution\n",
    "numpy.random.sample - https://docs.scipy.org/doc/numpy-1.15.0/reference/generated/numpy.random.sample.html\n",
    "numpy.random.seed - https://docs.scipy.org/doc/numpy-1.15.1/reference/generated/numpy.random.seed.html#numpy.random.seed\n",
    "Random Seed - https://en.wikipedia.org/wiki/Random_seed\n",
    "\n",
    "Other references included are module course videos provided by our lecturer which may not be viewed\n",
    "Introduction to Numpy - https://web.microsoftstream.com/video/ea6519e9-f7ed-444c-9b25-d855dfaa363a\n",
    "The numpy random documentation - https://web.microsoftstream.com/video/659b15a1-6818-4b71-aa21-5b918351ab20\n",
    "Numpy.rand - https://web.microsoftstream.com/video/d44d42fa-5b1a-4152-9d41-8129a3816001\n",
    "Distributions video - https://web.microsoftstream.com/video/e6f57177-0a17-45a5-8ca8-0e3191e887f8\n",
    "Seed video - https://web.microsoftstream.com/video/db596673-6d67-4d13-93c3-074728c693f2"
   ]
  }
 ],
 "metadata": {
  "kernelspec": {
   "display_name": "Python 3",
   "language": "python",
   "name": "python3"
  },
  "language_info": {
   "codemirror_mode": {
    "name": "ipython",
    "version": 3
   },
   "file_extension": ".py",
   "mimetype": "text/x-python",
   "name": "python",
   "nbconvert_exporter": "python",
   "pygments_lexer": "ipython3",
   "version": "3.6.6"
  }
 },
 "nbformat": 4,
 "nbformat_minor": 2
}
