{
 "cells": [
  {
   "cell_type": "markdown",
   "metadata": {},
   "source": [
    "# MNIST Dataset Notebook"
   ]
  },
  {
   "cell_type": "markdown",
   "metadata": {},
   "source": [
    "The purpose of this notebook is to explain how to read the MNIST dataset efficiently into memory in Python."
   ]
  },
  {
   "cell_type": "markdown",
   "metadata": {},
   "source": [
    "## What is the MNIST Dataset"
   ]
  },
  {
   "cell_type": "markdown",
   "metadata": {},
   "source": [
    "Then MNIST dataset is a database of handwriten images of digits. It contains 60,000 train images and 10,000 test images. All digits have been size-normalized and centered in a fixed-size image. This dataset is widely used by people who want to try learning techniques and pattern recognition methods on real-world data while spending minimal efforts on preprocessing and formatting. More information on the MNIST dataset can be found [here.](http://yann.lecun.com/exdb/mnist/)\n",
    "\n",
    "#### File Format\n",
    "The MNIST dataset contain four conpressed files\n",
    "\n",
    "- train-images-idx3-ubyte.gz (Train Images)\n",
    "- train-labels-idx1-ubyte.gz (Train Lables)\n",
    "- t10k-images-idx3-ubyte.gz (Test Images)\n",
    "- t10k-labels-idx1-ubyte.gz (Test Lables)\n",
    "\n",
    "The integars within these files are stored in MSB format (Big endian) meaning that users of Intel processers need to change the format to Little endian to be able to use the files. For more information on Little and Big Endian please click [here.](https://chortle.ccsu.edu/AssemblyTutorial/Chapter-15/ass15_3.html) This is a very simple format and doesn't require much work to extract the data as we will show below, but first lets look at IDX file format.\n",
    "\n",
    "#### IDX file format\n",
    "The IDX file format is a simple format for vectors and multidimensional matrices of various numerical types.\n",
    "The file format looks like this \n",
    "\n",
    "- magic number\n",
    "- size in dimension 1\n",
    "- size in dimension 2\n",
    "- size in dimension 3\n",
    "- ....\n",
    "- size in dimension N\n",
    "- data\n",
    "\n",
    "The magic number is four bytes long. The first 2 bytes are always 0.\n",
    "The third byte codes the type of the data:\n",
    "\n",
    "- 0x08: unsigned byte\n",
    "- 0x09: signed byte\n",
    "- 0x0B: short (2 bytes)\n",
    "- 0x0C: int (4 bytes)\n",
    "- 0x0D: float (4 bytes)\n",
    "- 0x0E: double (8 bytes)\n",
    "\n",
    "The fouth byte codes the number of dimensions of the vector/matrix: 1 for vectors, 2 for matrices....\n",
    "The sizes in each dimension are 4-byte integers (big endian, like in most non-Intel processors).\n",
    "The data is stored like in a C array, i.e. the index in the last dimension changes the fastest.\n",
    "\n",
    "The above on IDX file format was extracted from : http://www.fon.hum.uva.nl/praat/manual/IDX_file_format.html"
   ]
  },
  {
   "cell_type": "markdown",
   "metadata": {},
   "source": [
    "## Reading Bytes from a File"
   ]
  },
  {
   "cell_type": "markdown",
   "metadata": {},
   "source": [
    "We are going to start off by importing our libraries. We are going to need [gzip, ](https://www.gzip.org/)[matplotlib](https://matplotlib.org/) and [numpy](http://www.numpy.org/) "
   ]
  },
  {
   "cell_type": "code",
   "execution_count": 42,
   "metadata": {},
   "outputs": [],
   "source": [
    "# Imports\n",
    "import gzip\n",
    "import matplotlib.pyplot as plt\n",
    "import numpy as np"
   ]
  },
  {
   "cell_type": "markdown",
   "metadata": {},
   "source": [
    "### Reading Test Labels"
   ]
  },
  {
   "cell_type": "markdown",
   "metadata": {},
   "source": [
    "Once we have imported the libraries we are going to attempt to read the labels from the t10k test file. To do with we will be using gzip which we imported above. "
   ]
  },
  {
   "cell_type": "code",
   "execution_count": 45,
   "metadata": {
    "scrolled": false
   },
   "outputs": [
    {
     "name": "stdout",
     "output_type": "stream",
     "text": [
      "Data is of type : <class 'bytes'>\n",
      "Magic is: 2049\n",
      "Num of labels is: 10000\n"
     ]
    }
   ],
   "source": [
    "# Reading the t10K lables \n",
    "with gzip.open('data/t10k-labels-idx1-ubyte.gz','rb') as f: #use gzip to open the file in read binary mode\n",
    "        file_content = f.read(4) # magic number is the first 4 bytes\n",
    "        \n",
    "        # Read first 4 bytes of file\n",
    "        print(\"Data is of type :\",type(file_content[0:4]))\n",
    "        \n",
    "        magic = int.from_bytes(file_content,'big') # Convert bytes to integers.\n",
    "        print(\"Magic is:\", magic) # print to console\n",
    "\n",
    "        # the same as above but with labels\n",
    "        nolab = f.read(4)\n",
    "        nolab = int.from_bytes(nolab,'big')\n",
    "        print(\"Num of labels is:\", nolab)\n",
    "\n",
    "        # for looping through labels\n",
    "        train_labels = [f.read(1) for i in range(nolab)]\n",
    "        train_labels = [int.from_bytes(train_labels, 'big') for train_labels in train_labels]\n",
    "        "
   ]
  },
  {
   "cell_type": "markdown",
   "metadata": {},
   "source": [
    "From the above outputs we can see that the data is unsigned bytes, the magic number is 2049 and that there is 10000 lables which is correct. \n",
    "We can look at one of the labeles by running the following line of code"
   ]
  },
  {
   "cell_type": "markdown",
   "metadata": {},
   "source": [
    "### Display Test Label"
   ]
  },
  {
   "cell_type": "code",
   "execution_count": 46,
   "metadata": {},
   "outputs": [
    {
     "name": "stdout",
     "output_type": "stream",
     "text": [
      "Label 1000 is:  9\n"
     ]
    }
   ],
   "source": [
    "print(\"Label 1000 is: \" ,train_labels[1000])"
   ]
  },
  {
   "cell_type": "markdown",
   "metadata": {},
   "source": [
    "### Reading Test Images"
   ]
  },
  {
   "cell_type": "markdown",
   "metadata": {},
   "source": [
    "We are not going to extract the t10k images. The steps used to extract the images are simular to the above steps. The only difference is that we are going to need to run the integers through a set of loops."
   ]
  },
  {
   "cell_type": "code",
   "execution_count": 47,
   "metadata": {},
   "outputs": [
    {
     "name": "stdout",
     "output_type": "stream",
     "text": [
      "Magic is: 2051\n",
      "Number of images is: 10000\n",
      "Number of rows is: 28\n",
      "Number of cols is: 28\n"
     ]
    }
   ],
   "source": [
    "# Reading the t10K Images \n",
    "with gzip.open('data/t10k-images-idx3-ubyte.gz', 'rb') as f: # use gzip to open the file in read binary mode\n",
    "    magic = f.read(4) # magic number is the first 4 bytes\n",
    "    magic = int.from_bytes(magic, 'big') # Convert bytes to integers.\n",
    "    print(\"Magic is:\", magic) # print to console\n",
    "\n",
    "    # Number of images in next 4 bytes\n",
    "    noimg = f.read(4)\n",
    "    noimg = int.from_bytes(noimg, 'big')\n",
    "    print(\"Number of images is:\", noimg)\n",
    "\n",
    "    # Number of rows in next 4 bytes\n",
    "    norow = f.read(4)\n",
    "    norow = int.from_bytes(norow, 'big')\n",
    "    print(\"Number of rows is:\", norow)\n",
    "\n",
    "    # Number of columns in next 4 bytes\n",
    "    nocol = f.read(4)\n",
    "    nocol = int.from_bytes(nocol, 'big')\n",
    "    print(\"Number of cols is:\", nocol)\n",
    "\n",
    "    train_images = []  # create array\n",
    "    # for loop\n",
    "    for i in range(noimg):\n",
    "        rows = []\n",
    "        for r in range(norow):\n",
    "            cols = []\n",
    "            for c in range(nocol):\n",
    "                # append the current byte for every column\n",
    "                cols.append(int.from_bytes(f.read(1), 'little'))\n",
    "            rows.append(cols)  # append columns array for every row\n",
    "        train_images.append(rows)  # append rows for every image"
   ]
  },
  {
   "cell_type": "markdown",
   "metadata": {},
   "source": [
    "### Display Test Image"
   ]
  },
  {
   "cell_type": "markdown",
   "metadata": {},
   "source": [
    "Now that all the test images are loaded into memory we can display one of the images Like above we will show that 1000th image. Hope fully we should see a number 9."
   ]
  },
  {
   "cell_type": "code",
   "execution_count": 48,
   "metadata": {
    "scrolled": true
   },
   "outputs": [
    {
     "data": {
      "text/plain": [
       "<matplotlib.image.AxesImage at 0x29b6c0dfe10>"
      ]
     },
     "execution_count": 48,
     "metadata": {},
     "output_type": "execute_result"
    },
    {
     "data": {
      "image/png": "[encoded data removed]",
      "text/plain": [
       "<Figure size 432x288 with 1 Axes>"
      ]
     },
     "metadata": {
      "needs_background": "light"
     },
     "output_type": "display_data"
    }
   ],
   "source": [
    "%matplotlib inline\n",
    "plt.imshow(train_images[1000],cmap='gray')"
   ]
  },
  {
   "cell_type": "code",
   "execution_count": null,
   "metadata": {},
   "outputs": [],
   "source": []
  }
 ],
 "metadata": {
  "kernelspec": {
   "display_name": "Python 3",
   "language": "python",
   "name": "python3"
  },
  "language_info": {
   "codemirror_mode": {
    "name": "ipython",
    "version": 3
   },
   "file_extension": ".py",
   "mimetype": "text/x-python",
   "name": "python",
   "nbconvert_exporter": "python",
   "pygments_lexer": "ipython3",
   "version": "3.6.6"
  }
 },
 "nbformat": 4,
 "nbformat_minor": 2
}
