{
 "cells": [
  {
   "cell_type": "markdown",
   "metadata": {},
   "source": [
    "![alt https://upload.wikimedia.org/wikipedia/commons/thumb/1/1a/NumPy_logo.svg/1200px-NumPy_logo.svg.png](imagename.png \"TitleImage\")"
   ]
  },
  {
   "cell_type": "markdown",
   "metadata": {},
   "source": [
    "# NumPy Random Notebook"
   ]
  },
  {
   "cell_type": "markdown",
   "metadata": {},
   "source": [
    "The purpose of this notebook is to explain the Numpy.Random Package.\n",
    "\n",
    "### NumPy\n",
    "NumPy is a fundamental package for scientific computing in Python. It provides a multidimensional array object, various derived objects, and an assortment of routines for fast operations on arrays, including mathematical, logical, shape manipulation, sorting, selecting, I/O, discrete Fourier transforms, basic linear algebra, basic statistical operations, random simulation and much more. "
   ]
  },
  {
   "cell_type": "markdown",
   "metadata": {},
   "source": [
    "## NumPy.Random"
   ]
  },
  {
   "cell_type": "markdown",
   "metadata": {},
   "source": [
    "(explain the NumPy.Random package)"
   ]
  },
  {
   "cell_type": "markdown",
   "metadata": {},
   "source": [
    "### NumPy.random.rand"
   ]
  },
  {
   "cell_type": "markdown",
   "metadata": {},
   "source": [
    "numpy.random.rand creates random numbers in a given shape and stores them in an array. If another parameter is added then another array of random numbers is created. In the example below an array of 10 random numbers is created and displayed in a histogram."
   ]
  },
  {
   "cell_type": "code",
   "execution_count": 1,
   "metadata": {},
   "outputs": [],
   "source": [
    "import numpy as np"
   ]
  },
  {
   "cell_type": "code",
   "execution_count": 2,
   "metadata": {},
   "outputs": [
    {
     "data": {
      "text/plain": [
       "array([0.55060468, 0.80342613, 0.11351596, 0.20709747, 0.36603493,\n",
       "       0.70116664, 0.17239385, 0.37429279, 0.90782122, 0.36405651])"
      ]
     },
     "execution_count": 2,
     "metadata": {},
     "output_type": "execute_result"
    }
   ],
   "source": [
    "x = np.random.rand(10)\n",
    "x"
   ]
  },
  {
   "cell_type": "code",
   "execution_count": 3,
   "metadata": {},
   "outputs": [
    {
     "data": {
      "image/png": "[encoded data removed]",
      "text/plain": [
       "<Figure size 432x288 with 1 Axes>"
      ]
     },
     "metadata": {
      "needs_background": "light"
     },
     "output_type": "display_data"
    }
   ],
   "source": [
    "%matplotlib inline\n",
    "\n",
    "import matplotlib.pyplot as plt\n",
    "\n",
    "plt.hist(x)\n",
    "plt.show()"
   ]
  },
  {
   "cell_type": "markdown",
   "metadata": {},
   "source": [
    "### Random.uniform"
   ]
  },
  {
   "cell_type": "markdown",
   "metadata": {},
   "source": [
    "numpy.random.uniform takes 3 parameters, a lower boundard of the output interval, a upper boundary of the output interval and a output shape or size. Both the lower and size are optional parameters.Any value within the given interval is equally likely to be drawn by uniform. In the example below"
   ]
  },
  {
   "cell_type": "code",
   "execution_count": 4,
   "metadata": {},
   "outputs": [],
   "source": [
    "x = np.random.uniform(-1,2,1000)"
   ]
  },
  {
   "cell_type": "code",
   "execution_count": 5,
   "metadata": {},
   "outputs": [
    {
     "data": {
      "text/plain": [
       "(array([ 99., 104., 110.,  86.,  93., 107., 100., 108., 108.,  85.]),\n",
       " array([-0.99816877, -0.69843709, -0.39870541, -0.09897374,  0.20075794,\n",
       "         0.50048962,  0.8002213 ,  1.09995297,  1.39968465,  1.69941633,\n",
       "         1.99914801]),\n",
       " <a list of 10 Patch objects>)"
      ]
     },
     "execution_count": 5,
     "metadata": {},
     "output_type": "execute_result"
    },
    {
     "data": {
      "image/png": "[encoded data removed]",
      "text/plain": [
       "<Figure size 432x288 with 1 Axes>"
      ]
     },
     "metadata": {
      "needs_background": "light"
     },
     "output_type": "display_data"
    }
   ],
   "source": [
    "plt.hist(x)"
   ]
  },
  {
   "cell_type": "markdown",
   "metadata": {},
   "source": [
    "### Random.normal"
   ]
  },
  {
   "cell_type": "markdown",
   "metadata": {},
   "source": [
    "numpy.random.normal takes three parameters. The first is the centre of the distribution, the second is the width of the distibution and the third is the output shape or size of the distribution. The size is the only parameter that is optional. In the example below 0 is the centre , 0.1 is the width and 10000 is the size. As you can see in the histogram, most of the random samples are distributed around the centre (0). "
   ]
  },
  {
   "cell_type": "code",
   "execution_count": 7,
   "metadata": {},
   "outputs": [
    {
     "data": {
      "text/plain": [
       "(array([  41.,  249.,  811., 1962., 2774., 2389., 1294.,  404.,   70.,\n",
       "           6.]),\n",
       " array([-3.36413812, -2.64744059, -1.93074306, -1.21404554, -0.49734801,\n",
       "         0.21934952,  0.93604705,  1.65274457,  2.3694421 ,  3.08613963,\n",
       "         3.80283715]),\n",
       " <a list of 10 Patch objects>)"
      ]
     },
     "execution_count": 7,
     "metadata": {},
     "output_type": "execute_result"
    },
    {
     "data": {
      "image/png": "[encoded data removed]",
      "text/plain": [
       "<Figure size 432x288 with 1 Axes>"
      ]
     },
     "metadata": {
      "needs_background": "light"
     },
     "output_type": "display_data"
    }
   ],
   "source": [
    "x = np.random.normal(0,1,10000)\n",
    "\n",
    "plt.hist(x)"
   ]
  },
  {
   "cell_type": "markdown",
   "metadata": {},
   "source": [
    "### Random.gumbel"
   ]
  },
  {
   "cell_type": "markdown",
   "metadata": {},
   "source": [
    "The Gumbel distribution is used to model the distiution of the maximum of a number of samples of various distibutions. The Gumbel distribution might be used to represent the distribution of the max rainfall in a particular area during a particular time of the year.\n",
    "numpy.random.gumbel draw samples from a Gumbel distribution. It takes three parameters. A location, which is option but the default will be set to 0. A scale which is also option but again the default will then be set to 1. The third parameter is the size or output shape. If no value is entered into the size then only a single value is returned."
   ]
  },
  {
   "cell_type": "code",
   "execution_count": null,
   "metadata": {},
   "outputs": [],
   "source": [
    "x = np.random.gumbel(0,1,1000)\n",
    "plt.hist(x)"
   ]
  },
  {
   "cell_type": "markdown",
   "metadata": {},
   "source": [
    "In the example above the values start to increase quite dramatically around the centre point 0 and after 0 the figues start to decrease alot less dramatic."
   ]
  },
  {
   "cell_type": "markdown",
   "metadata": {},
   "source": [
    "### Random.sample"
   ]
  },
  {
   "cell_type": "markdown",
   "metadata": {},
   "source": [
    "numpy.random.sample returns random floats in a half open interval. It takes one parameter which is the size or output shape. It returns an array of random numbers. In the example below, 5 is given as a size or output shape and the result is an array of 5 float numbers. The float numbers are from a continuous unifrom distribution over the stated interval."
   ]
  },
  {
   "cell_type": "code",
   "execution_count": 12,
   "metadata": {},
   "outputs": [
    {
     "data": {
      "text/plain": [
       "array([0.58464432, 0.32089278, 0.38873832, 0.52807995, 0.98233382])"
      ]
     },
     "execution_count": 12,
     "metadata": {},
     "output_type": "execute_result"
    }
   ],
   "source": [
    "x = np.random.sample(5)\n",
    "x"
   ]
  },
  {
   "cell_type": "markdown",
   "metadata": {},
   "source": [
    "### Random.seed"
   ]
  },
  {
   "cell_type": "markdown",
   "metadata": {},
   "source": [
    "A seed is a number used to initialize a pseudorandom number generator. A seed does not need to be random so long as the orginal seed is ignored, the rest of the values that the algorithm generates will follow probability distribution in a pseudorandom manner. If the seed is know then the random number algorithm can be figured out.\n",
    "numpy.random.seed is used to seed the generator. It is called when RandomState is initialized. It can be recalled to re-seed the generator. It takes one parameter which is the seed."
   ]
  },
  {
   "cell_type": "markdown",
   "metadata": {},
   "source": [
    "## References"
   ]
  },
  {
   "cell_type": "markdown",
   "metadata": {},
   "source": [
    "numpy - http://www.numpy.org/\n",
    "numpy.random.rand - https://docs.scipy.org/doc/numpy-1.15.1/reference/generated/numpy.random.rand.html#numpy.random.rand\n",
    "numpy.random.uniform - https://docs.scipy.org/doc/numpy-1.15.1/reference/generated/numpy.random.uniform.html#numpy.random.uniform\n",
    "numpy.random.normal - https://docs.scipy.org/doc/numpy-1.15.1/reference/generated/numpy.random.normal.html#numpy.random.normal\n",
    "numpy.random.gumbel - https://docs.scipy.org/doc/numpy-1.15.1/reference/generated/numpy.random.gumbel.html#numpy.random.gumbel\n",
    "Gumbel distribution - https://en.wikipedia.org/wiki/Gumbel_distribution\n",
    "numpy.random.sample - https://docs.scipy.org/doc/numpy-1.15.0/reference/generated/numpy.random.sample.html\n",
    "numpy.random.seed - https://docs.scipy.org/doc/numpy-1.15.1/reference/generated/numpy.random.seed.html#numpy.random.seed\n",
    "Random Seed - https://en.wikipedia.org/wiki/Random_seed\n",
    "\n",
    "Other references included are module course videos provided by our lecturer which may not be viewed\n",
    "Introduction to Numpy - https://web.microsoftstream.com/video/ea6519e9-f7ed-444c-9b25-d855dfaa363a\n",
    "The numpy random documentation - https://web.microsoftstream.com/video/659b15a1-6818-4b71-aa21-5b918351ab20\n",
    "Numpy.rand - https://web.microsoftstream.com/video/d44d42fa-5b1a-4152-9d41-8129a3816001\n",
    "Distributions video - https://web.microsoftstream.com/video/e6f57177-0a17-45a5-8ca8-0e3191e887f8\n",
    "Seed video - https://web.microsoftstream.com/video/db596673-6d67-4d13-93c3-074728c693f2"
   ]
  }
 ],
 "metadata": {
  "kernelspec": {
   "display_name": "Python 3",
   "language": "python",
   "name": "python3"
  },
  "language_info": {
   "codemirror_mode": {
    "name": "ipython",
    "version": 3
   },
   "file_extension": ".py",
   "mimetype": "text/x-python",
   "name": "python",
   "nbconvert_exporter": "python",
   "pygments_lexer": "ipython3",
   "version": "3.6.6"
  }
 },
 "nbformat": 4,
 "nbformat_minor": 2
}
